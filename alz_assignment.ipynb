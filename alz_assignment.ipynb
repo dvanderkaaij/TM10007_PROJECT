{
 "nbformat": 4,
 "nbformat_minor": 2,
 "metadata": {
  "language_info": {
   "name": "python",
   "codemirror_mode": {
    "name": "ipython",
    "version": 3
   },
   "version": "3.7.4-final"
  },
  "orig_nbformat": 2,
  "file_extension": ".py",
  "mimetype": "text/x-python",
  "name": "python",
  "npconvert_exporter": "python",
  "pygments_lexer": "ipython3",
  "version": 3,
  "kernelspec": {
   "name": "python37464bitbaseconda840dc568eb63462e89066e3ebf52f43f",
   "display_name": "Python 3.7.4 64-bit ('base': conda)"
  }
 },
 "cells": [
  {
   "cell_type": "code",
   "execution_count": 1,
   "metadata": {},
   "outputs": [
    {
     "name": "stdout",
     "output_type": "stream",
     "text": "The number of samples: 855\nThe number of columns: 268\n"
    }
   ],
   "source": [
    "# Data loading functions. Uncomment the one you want to use\n",
    "from adni.load_data import load_data\n",
    "# from brats.load_data import load_data\n",
    "# from hn.load_data import load_data\n",
    "\n",
    "data = load_data()\n",
    "print(f'The number of samples: {len(data.index)}')\n",
    "print(f'The number of columns: {len(data.columns)}')"
   ]
  },
  {
   "cell_type": "code",
   "execution_count": null,
   "metadata": {},
   "outputs": [],
   "source": [
    "# Introductie schrijven ()\n",
    "# 200-300 woorden\n"
   ]
  },
  {
   "cell_type": "code",
   "execution_count": 8,
   "metadata": {},
   "outputs": [
    {
     "name": "stdout",
     "output_type": "stream",
     "text": "855\n519\n336\n0.6070175438596491\n"
    }
   ],
   "source": [
    "# Dataset beschrijven ()\n",
    "# 1. Labels\n",
    "amount_samples = len(data['label'])\n",
    "\n",
    "amount_AD = sum(data['label']=='AD')\n",
    "amount_CN = sum(data['label']=='CN')\n",
    "\n",
    "ratio_AD = amount_AD/amount_samples\n",
    "\n",
    "print(amount_samples)\n",
    "print(amount_AD)\n",
    "print(amount_CN)\n",
    "print(ratio_AD)\n"
   ]
  },
  {
   "cell_type": "code",
   "execution_count": null,
   "metadata": {},
   "outputs": [],
   "source": [
    "# Preprocessing (Aniek)\n",
    "# 1. Dataset --> Trainset(4/5) en Testset(1/5) verhouding label gelijk houden\n",
    "# 2. Trainset --> Trainset(4/5) en Validatieset(1/5) voor cross-validatie\n",
    "\n",
    "# 3. Feature selection?\n"
   ]
  },
  {
   "cell_type": "code",
   "execution_count": null,
   "metadata": {},
   "outputs": [],
   "source": [
    "# Classifiers\n",
    "# 1. Support Vector Machine\n",
    "# 2. Random Forest\n"
   ]
  }
 ]
}