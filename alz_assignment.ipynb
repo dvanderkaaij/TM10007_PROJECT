{
 "nbformat": 4,
 "nbformat_minor": 2,
 "metadata": {
  "language_info": {
   "name": "python",
   "codemirror_mode": {
    "name": "ipython",
    "version": 3
   },
   "version": "3.7.4-final"
  },
  "orig_nbformat": 2,
  "file_extension": ".py",
  "mimetype": "text/x-python",
  "name": "python",
  "npconvert_exporter": "python",
  "pygments_lexer": "ipython3",
  "version": 3,
  "kernelspec": {
   "name": "python37464bitbaseconda840dc568eb63462e89066e3ebf52f43f",
   "display_name": "Python 3.7.4 64-bit ('base': conda)"
  }
 },
 "cells": [
  {
   "cell_type": "code",
   "execution_count": 1,
   "metadata": {},
   "outputs": [],
   "source": [
    "# Imports\n",
    "from adni.load_data import load_data\n"
   ]
  },
  {
   "cell_type": "code",
   "execution_count": 2,
   "metadata": {},
   "outputs": [],
   "source": [
    "# Introduction (Eva)\n",
    "# An introduction concerning the (clinical) problem to be solved.\n",
    "# 200-300 words\n"
   ]
  },
  {
   "cell_type": "code",
   "execution_count": 3,
   "metadata": {},
   "outputs": [],
   "source": [
    "# Load data\n",
    "data = load_data()\n"
   ]
  },
  {
   "cell_type": "code",
   "execution_count": 4,
   "metadata": {},
   "outputs": [
    {
     "name": "stdout",
     "output_type": "stream",
     "text": "The number of samples: 855\nThe number of columns: 268\nThe number of AD samples: 519 (60.7%)\nThe number of CN samples: 336 (39.3%)\n"
    }
   ],
   "source": [
    "# Describe data (Jari)\n",
    "amount_samples  = len(data.index)\n",
    "amount_features = len(data.columns)\n",
    "print(f'The number of samples: {amount_samples}')\n",
    "print(f'The number of columns: {amount_features}')\n",
    "\n",
    "amount_AD = sum(data['label']=='AD')\n",
    "amount_CN = sum(data['label']=='CN')\n",
    "ratio_AD = amount_AD/amount_samples\n",
    "ratio_CN = amount_CN/amount_samples\n",
    "print(f'The number of AD samples: {amount_AD} ({round(ratio_AD*100,2)}%)')\n",
    "print(f'The number of CN samples: {amount_CN} ({round(ratio_CN*100,2)}%)')\n"
   ]
  },
  {
   "cell_type": "code",
   "execution_count": null,
   "metadata": {},
   "outputs": [],
   "source": [
    "# Preprocessing (Daniek)\n",
    "y = data['label']\n",
    "X = data\n",
    "X = X.drop(['label'], axis=1)\n",
    "\n",
    "# 1. Dataset --> Trainset(4/5) en Testset(1/5) verhouding label gelijk houden\n",
    "from sklearn import model_selection\n",
    "from sklearn.model_selection import train_test_split\n",
    "\n",
    "X_train, X_test, y_train, y_test = train_test_split(X, y, train_size=0.8, random_state=None, stratify=y) \n",
    "# checken of classes gelijk verdeeld zijn over train en test set\n",
    "amount_samples = len(y_train)\n",
    "amount_AD = sum(y_train=='AD')\n",
    "amount_CN = sum(y_train=='CN')\n",
    "ratio_AD = amount_AD/amount_samples\n",
    "\n",
    "# 2. Trainset --> Trainset(4/5) en Validatieset(1/5) voor cross-validatie\n",
    "\n",
    "X_train = X_train.to_numpy()\n",
    "y_train = y_train.to_numpy()\n",
    "\n",
    "sss = model_selection.StratifiedShuffleSplit(n_splits=10, train_size=0.8, random_state=None)\n",
    "for train_index, validation_index in sss.split(X_train, y_train):\n",
    "    X_train_cv, X_validation = X_train[train_index], X_train[validation_index]\n",
    "    y_train_cv, y_validation = y_train[train_index], y_train[validation_index]\n"
   ]
  },
  {
   "cell_type": "code",
   "execution_count": 5,
   "metadata": {},
   "outputs": [],
   "source": [
    "# Classifiers\n",
    "# 1. Support Vector Machine\n",
    "# 2. Random Forest\n"
   ]
  },
  {
   "cell_type": "code",
   "execution_count": 6,
   "metadata": {},
   "outputs": [],
   "source": [
    "# Experimental and evaluation setup\n"
   ]
  },
  {
   "cell_type": "code",
   "execution_count": 7,
   "metadata": {},
   "outputs": [],
   "source": [
    "# Statistics\n"
   ]
  },
  {
   "cell_type": "code",
   "execution_count": null,
   "metadata": {},
   "outputs": [],
   "source": []
  }
 ]
}